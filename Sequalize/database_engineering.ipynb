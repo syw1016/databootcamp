{
 "cells": [
  {
   "cell_type": "code",
   "execution_count": 23,
   "metadata": {},
   "outputs": [],
   "source": [
    "# Step 2\n",
    "\n",
    "import pandas as pd\n",
    "from sqlalchemy import Column, Float, Integer, String, create_engine\n",
    "from sqlalchemy.ext.declarative import declarative_base\n",
    "\n",
    "stations = pd.read_csv(\"clean_hawaii_stations.csv\")\n",
    "measurements = pd.read_csv(\"clean_hawaii_measurements.csv\")\n",
    "\n",
    "engine = create_engine(\"sqlite:///hawaii.sqlite\")\n",
    "\n",
    "Base = declarative_base()\n",
    "\n",
    "class Measurement(Base):\n",
    "    __tablename__ = 'measurements'\n",
    "    id = Column(Integer, primary_key=True)\n",
    "    station = Column(String(255))\n",
    "    date = Column(String(255))\n",
    "    prcp = Column(Float)\n",
    "    tobs = Column(Float)\n",
    "\n",
    "class Station(Base):\n",
    "    __tablename__ = 'stations'\n",
    "    id = Column(Integer, primary_key=True)\n",
    "    station = Column(String(255))\n",
    "    name = Column(String(255))\n",
    "    latitude = Column(Float)\n",
    "    longitude = Column(Float)\n",
    "    elevation = Column(Float)\n",
    "    \n",
    "Base.metadata.create_all(engine)\n",
    "\n",
    "conn = engine.connect()\n",
    "\n",
    "from sqlalchemy.orm import Session\n",
    "session = Session(bind=engine)\n",
    "\n",
    "for row in stations.iterrows():\n",
    "    station = Station(station=row[1].station, name=row[1].name\n",
    "                     , latitude=row[1].latitude, longitude=row[1].longitude, elevation=row[1].elevation)\n",
    "    session.add(station)\n",
    "\n",
    "for row in measurements.iterrows():\n",
    "    measurement = Measurement(station=row[1].station, date=row[1].date, prcp=row[1].prcp, tobs=row[1].tobs)\n",
    "    session.add(measurement)\n",
    "\n",
    "session.commit()"
   ]
  },
  {
   "cell_type": "code",
   "execution_count": null,
   "metadata": {
    "collapsed": true
   },
   "outputs": [],
   "source": []
  }
 ],
 "metadata": {
  "kernelspec": {
   "display_name": "Python 3",
   "language": "python",
   "name": "python3"
  },
  "language_info": {
   "codemirror_mode": {
    "name": "ipython",
    "version": 3
   },
   "file_extension": ".py",
   "mimetype": "text/x-python",
   "name": "python",
   "nbconvert_exporter": "python",
   "pygments_lexer": "ipython3",
   "version": "3.6.3"
  }
 },
 "nbformat": 4,
 "nbformat_minor": 2
}
