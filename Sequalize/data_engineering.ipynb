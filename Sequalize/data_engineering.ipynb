{
 "cells": [
  {
   "cell_type": "code",
   "execution_count": 13,
   "metadata": {
    "collapsed": true
   },
   "outputs": [],
   "source": [
    "# Step 1\n",
    "\n",
    "import pandas as pd\n",
    "\n",
    "stations = pd.read_csv(\"hawaii_stations.csv\")\n",
    "measurements = pd.read_csv(\"hawaii_measurements.csv\")\n",
    "\n",
    "# dropping NaN's\n",
    "measurements = measurements.dropna()\n",
    "\n",
    "measurements.to_csv(\"clean_hawaii_measurements.csv\")\n",
    "stations.to_csv(\"clean_hawaii_stations.csv\")"
   ]
  }
 ],
 "metadata": {
  "kernelspec": {
   "display_name": "Python 3",
   "language": "python",
   "name": "python3"
  },
  "language_info": {
   "codemirror_mode": {
    "name": "ipython",
    "version": 3
   },
   "file_extension": ".py",
   "mimetype": "text/x-python",
   "name": "python",
   "nbconvert_exporter": "python",
   "pygments_lexer": "ipython3",
   "version": "3.6.3"
  }
 },
 "nbformat": 4,
 "nbformat_minor": 2
}
