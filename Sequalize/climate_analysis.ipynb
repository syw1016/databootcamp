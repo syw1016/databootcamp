{
 "cells": [
  {
   "cell_type": "code",
   "execution_count": 9,
   "metadata": {
    "collapsed": true
   },
   "outputs": [],
   "source": [
    "# Step 3\n",
    "import sqlalchemy\n",
    "from sqlalchemy import create_engine, func\n",
    "from sqlalchemy.ext.automap import automap_base\n",
    "from sqlalchemy.orm import Session\n",
    "\n",
    "import numpy as np\n",
    "import pandas as pd\n",
    "import matplotlib.pyplot as plt\n",
    "\n",
    "from datetime import datetime, timedelta \n",
    "\n",
    "engine = create_engine(\"sqlite:///hawaii.sqlite\")\n",
    "\n",
    "Base = automap_base()\n",
    "Base.prepare(engine, reflect=True)\n",
    "\n",
    "Measurements = Base.classes.measurements\n",
    "Stations = Base.classes.stations\n",
    "\n",
    "session = Session(engine)"
   ]
  },
  {
   "cell_type": "code",
   "execution_count": 38,
   "metadata": {},
   "outputs": [
    {
     "data": {
      "image/png": "[encoded data removed]",
      "text/plain": [
       "<matplotlib.figure.Figure at 0x119f70160>"
      ]
     },
     "metadata": {},
     "output_type": "display_data"
    }
   ],
   "source": [
    "# Precipitation Analysis\n",
    "x = session.query(Measurements.date, func.sum(Measurements.prcp)).group_by(Measurements.date).filter(Measurements.date > '2017-01-01').all()\n",
    "df = pd.DataFrame(x, columns=['date', 'prcp'])\n",
    "\n",
    "df.plot(kind='bar')\n",
    "plt.show()"
   ]
  },
  {
   "cell_type": "code",
   "execution_count": 11,
   "metadata": {},
   "outputs": [
    {
     "data": {
      "text/plain": [
       "9"
      ]
     },
     "execution_count": 11,
     "metadata": {},
     "output_type": "execute_result"
    }
   ],
   "source": [
    "# Station Analysis\n",
    "session.query(Stations.station).distinct().count()"
   ]
  },
  {
   "cell_type": "code",
   "execution_count": 12,
   "metadata": {},
   "outputs": [
    {
     "data": {
      "text/plain": [
       "[('USC00511918', 1932),\n",
       " ('USC00513117', 2696),\n",
       " ('USC00514830', 1937),\n",
       " ('USC00516128', 2484),\n",
       " ('USC00517948', 683),\n",
       " ('USC00518838', 342),\n",
       " ('USC00519281', 2772),\n",
       " ('USC00519397', 2685),\n",
       " ('USC00519523', 2572)]"
      ]
     },
     "execution_count": 12,
     "metadata": {},
     "output_type": "execute_result"
    }
   ],
   "source": [
    "session.query(Measurements.station, func.count(Measurements.date)).group_by(Measurements.station).all()"
   ]
  },
  {
   "cell_type": "code",
   "execution_count": 13,
   "metadata": {},
   "outputs": [
    {
     "data": {
      "image/png": "[encoded data removed]",
      "text/plain": [
       "<matplotlib.figure.Figure at 0x11a13c860>"
      ]
     },
     "metadata": {},
     "output_type": "display_data"
    }
   ],
   "source": [
    "# station with the highest number of observations = USC00513117\n",
    "x = session.query(Measurements.tobs).filter_by(station='USC00513117').all()\n",
    "df = pd.DataFrame(x, columns=['tobs'])\n",
    "\n",
    "df.plot(kind=\"hist\", bins=12, color='blue')\n",
    "plt.show()"
   ]
  },
  {
   "cell_type": "code",
   "execution_count": 41,
   "metadata": {},
   "outputs": [
    {
     "data": {
      "image/png": "[encoded data removed]",
      "text/plain": [
       "<matplotlib.figure.Figure at 0x1198c27b8>"
      ]
     },
     "metadata": {},
     "output_type": "display_data"
    }
   ],
   "source": [
    "# Temperature Analysis\n",
    "def calc_temps(start_date, end_date):\n",
    "    s_date = datetime.strptime(start_date, '%Y-%m-%d') - timedelta(days=365.24)\n",
    "    e_date = datetime.strptime(end_date, '%Y-%m-%d') - timedelta(days=365.24)\n",
    "    \n",
    "    result = session.query(func.min(Measurements.tobs), func.avg(Measurements.tobs), func.max(Measurements.tobs))\\\n",
    "    .filter(s_date < Measurements.date, Measurements.date < e_date).all()\n",
    "    \n",
    "    return result[0]\n",
    "\n",
    "result = calc_temps(\"2018-01-01\",\"2018-02-01\")\n",
    "\n",
    "min_tobs = result[0]\n",
    "avg_tobs = result[1]\n",
    "max_tobs = result[2]\n",
    "\n",
    "plt.figure(figsize=(3,5))\n",
    "plt.bar(0, avg_tobs, yerr=max_tobs-min_tobs, color=\"salmon\")\n",
    "plt.ylabel(\"Temp (F)\")\n",
    "plt.title(\"Trip Avg Temp\")\n",
    "plt.show()"
   ]
  },
  {
   "cell_type": "code",
   "execution_count": null,
   "metadata": {
    "collapsed": true
   },
   "outputs": [],
   "source": []
  }
 ],
 "metadata": {
  "kernelspec": {
   "display_name": "Python 3",
   "language": "python",
   "name": "python3"
  },
  "language_info": {
   "codemirror_mode": {
    "name": "ipython",
    "version": 3
   },
   "file_extension": ".py",
   "mimetype": "text/x-python",
   "name": "python",
   "nbconvert_exporter": "python",
   "pygments_lexer": "ipython3",
   "version": "3.6.3"
  }
 },
 "nbformat": 4,
 "nbformat_minor": 2
}
